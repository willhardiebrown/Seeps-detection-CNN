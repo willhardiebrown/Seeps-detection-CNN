{
 "cells": [
  {
   "cell_type": "markdown",
   "metadata": {},
   "source": [
    "This notebook is working on the seeps_detection dataset.\n",
    "Data must be organised into two folders, train_images_256 and train_masks_256, \n",
    "which are the pictures and masks respectively. \n",
    "\n",
    "This is an image segmentation exercise solved with a CNN architecture. The model used is a unet mini CNN\n"
   ]
  },
  {
   "cell_type": "code",
   "execution_count": 70,
   "metadata": {},
   "outputs": [],
   "source": [
    "import keras \n",
    "import keras_segmentation\n",
    "import numpy as np\n",
    "from os import listdir\n",
    "import matplotlib.image as img\n",
    "from sklearn.model_selection import train_test_split\n",
    "import matplotlib.pyplot as plt"
   ]
  },
  {
   "cell_type": "code",
   "execution_count": 92,
   "metadata": {},
   "outputs": [],
   "source": [
    "#Input data and convert to array. Convert to rgb format to work with model, setting r=g=b.\n",
    "X_data = np.zeros((790,256,256,3))\n",
    "y_data = np.zeros((790,256,256,3))\n",
    "i = 0\n",
    "\n",
    "for filename in listdir(r\"C:\\Users\\Administrator\\Desktop\\seep_detection\\train_images_256\"):\n",
    "    img_Xdata=img.imread(\"C:\\\\Users\\\\Administrator\\\\Desktop\\\\seep_detection\\\\train_images_256\\\\\" + filename)\n",
    "    img_Ydata=img.imread(\"C:\\\\Users\\\\Administrator\\\\Desktop\\\\seep_detection\\\\train_masks_256\\\\\" + filename)\n",
    "    X_data[i,:,:,0]=X_data[i,:,:,1]=X_data[i,:,:,2]=img_Xdata\n",
    "    y_data[i,:,:,0]=y_data[i,:,:,1]=y_data[i,:,:,2]=img_Ydata\n",
    "    i+=1\n"
   ]
  },
  {
   "cell_type": "code",
   "execution_count": 64,
   "metadata": {},
   "outputs": [
    {
     "name": "stdout",
     "output_type": "stream",
     "text": [
      "Number of classes:  8\n",
      "Classes:  [0. 1. 2. 3. 4. 5. 6. 7.]\n"
     ]
    }
   ],
   "source": [
    "#There are 8 classes: 0 is non-seep, 1-7 are seep.\n",
    "classes = np.unique(y_data)\n",
    "nClasses = len(classes)\n",
    "print('Number of classes: ',nClasses)\n",
    "print('Classes: ', classes)\n",
    "\n",
    "#Format data to work with model.\n",
    "X_data = X_data.astype(np.float32) / 65536.\n",
    "y_data = y_data.astype('uint8')\n"
   ]
  },
  {
   "cell_type": "code",
   "execution_count": 65,
   "metadata": {},
   "outputs": [],
   "source": [
    "#Split data into train, cross validation and test. Train:val:test ratio chosen is 0.6:0.2:0.2\n",
    "\n",
    "X_train, X_test, y_train, y_test = train_test_split(X_data, y_data, test_size=0.2, random_state=1)\n",
    "\n",
    "X_train, X_val, y_train, y_val = train_test_split(X_train, y_train, test_size=0.25, random_state=1)  #0.25 * 0.8 = 0.2\n",
    "\n"
   ]
  },
  {
   "cell_type": "code",
   "execution_count": 66,
   "metadata": {},
   "outputs": [],
   "source": [
    "#Save images to separate folders in png format.\n",
    "for i in range(X_train.shape[0]):\n",
    "    img.imsave(\"C:\\\\Users\\\\Administrator\\\\Desktop\\\\dataset\\\\train_image\\\\\" + str(i) + \".png\",X_train[i,:,:])\n",
    "    img.imsave(\"C:\\\\Users\\\\Administrator\\\\Desktop\\\\dataset\\\\train_mask\\\\\" + str(i) + \".png\",y_train[i,:,:])\n",
    "\n",
    "for i in range(X_val.shape[0]):\n",
    "    img.imsave(\"C:\\\\Users\\\\Administrator\\\\Desktop\\\\dataset\\\\val_image\\\\\" + str(i) + \".png\",X_val[i,:,:])\n",
    "    img.imsave(\"C:\\\\Users\\\\Administrator\\\\Desktop\\\\dataset\\\\val_mask\\\\\" + str(i) + \".png\",y_val[i,:,:])\n",
    "\n",
    "for i in range(X_test.shape[0]):\n",
    "    img.imsave(\"C:\\\\Users\\\\Administrator\\\\Desktop\\\\dataset\\\\test_image\\\\\" + str(i) + \".png\",X_test[i,:,:])\n",
    "    img.imsave(\"C:\\\\Users\\\\Administrator\\\\Desktop\\\\dataset\\\\test_mask\\\\\" + str(i) + \".png\",y_test[i,:,:])\n",
    "    "
   ]
  },
  {
   "cell_type": "markdown",
   "metadata": {},
   "source": [
    "Architecture of unet_mini can be found here: https://github.com/divamgupta/image-segmentation-keras/blob/master/keras_segmentation/models/unet.py\n"
   ]
  },
  {
   "cell_type": "code",
   "execution_count": 67,
   "metadata": {},
   "outputs": [],
   "source": [
    "#Import model. unet_mini is a basic vanilla cnn and is being used here for time efficiency.\n",
    "from keras_segmentation.models.unet import unet_mini\n",
    "\n",
    "model = unet_mini(n_classes=8 ,  input_height=256, input_width=256  )"
   ]
  },
  {
   "cell_type": "code",
   "execution_count": 68,
   "metadata": {},
   "outputs": [
    {
     "name": "stdout",
     "output_type": "stream",
     "text": [
      "Epoch 1/5\n",
      "512/512 [==============================] - ETA: 0s - loss: 2.4834 - accuracy: 0.3946saved  C:\\Users\\Administrator\\Desktop\\dataset\\weights\\.0\n",
      "512/512 [==============================] - 1719s 3s/step - loss: 2.4834 - accuracy: 0.3946 - val_loss: 0.2790 - val_accuracy: 0.9673\n",
      "Epoch 2/5\n",
      "512/512 [==============================] - ETA: 0s - loss: 0.3410 - accuracy: 0.9541saved  C:\\Users\\Administrator\\Desktop\\dataset\\weights\\.1\n",
      "512/512 [==============================] - 1677s 3s/step - loss: 0.3410 - accuracy: 0.9541 - val_loss: 0.2448 - val_accuracy: 0.9778\n",
      "Epoch 3/5\n",
      "512/512 [==============================] - ETA: 0s - loss: 0.2804 - accuracy: 0.9693saved  C:\\Users\\Administrator\\Desktop\\dataset\\weights\\.2\n",
      "512/512 [==============================] - 1671s 3s/step - loss: 0.2804 - accuracy: 0.9693 - val_loss: 0.2026 - val_accuracy: 0.9794\n",
      "Epoch 4/5\n",
      "512/512 [==============================] - ETA: 0s - loss: 0.2479 - accuracy: 0.9711saved  C:\\Users\\Administrator\\Desktop\\dataset\\weights\\.3\n",
      "512/512 [==============================] - 1673s 3s/step - loss: 0.2479 - accuracy: 0.9711 - val_loss: 0.1775 - val_accuracy: 0.9802\n",
      "Epoch 5/5\n",
      "512/512 [==============================] - ETA: 0s - loss: 0.2283 - accuracy: 0.9727saved  C:\\Users\\Administrator\\Desktop\\dataset\\weights\\.4\n",
      "512/512 [==============================] - 1674s 3s/step - loss: 0.2283 - accuracy: 0.9727 - val_loss: 0.1652 - val_accuracy: 0.9805\n"
     ]
    }
   ],
   "source": [
    "#Train model. Number of epochs is set to 5 as default.\n",
    "model.train(train_images = \"C:\\\\Users\\\\Administrator\\\\Desktop\\\\dataset\\\\train_image\\\\\",\n",
    "            train_annotations = \"C:\\\\Users\\\\Administrator\\\\Desktop\\\\dataset\\\\train_mask\\\\\",\n",
    "            verify_dataset  = False,\n",
    "            validate = True,\n",
    "            val_images = \"C:\\\\Users\\\\Administrator\\\\Desktop\\\\dataset\\\\val_image\\\\\",\n",
    "            val_annotations = \"C:\\\\Users\\\\Administrator\\\\Desktop\\\\dataset\\\\val_mask\\\\\",\n",
    "            checkpoints_path = \"C:\\\\Users\\\\Administrator\\\\Desktop\\\\dataset\\\\weights\\\\\"\n",
    "    )"
   ]
  },
  {
   "cell_type": "code",
   "execution_count": 71,
   "metadata": {},
   "outputs": [
    {
     "data": {
      "image/png": "[encoded data removed]",
      "text/plain": [
       "<Figure size 432x288 with 1 Axes>"
      ]
     },
     "metadata": {
      "needs_background": "light"
     },
     "output_type": "display_data"
    }
   ],
   "source": [
    "#Accuracy plot\n",
    "t = [1,2,3,4,5]\n",
    "train_acc = [0.3946,0.9541,0.9693,0.9711,0.9727]\n",
    "val_acc = [0.9673,0.9778,0.9794,0.9802,0.9805]\n",
    "plt.plot(t,train_acc,label = 'Train accuracy')\n",
    "plt.plot(t,val_acc,label= 'Validation accuracy')\n",
    "plt.title('The train and validation accuracies found for 5 epochs.')\n",
    "plt.xlabel('Epoch')\n",
    "plt.ylabel('Accuracy')\n",
    "plt.legend()\n",
    "plt.show()"
   ]
  },
  {
   "cell_type": "code",
   "execution_count": 72,
   "metadata": {},
   "outputs": [
    {
     "data": {
      "image/png": "[encoded data removed]",
      "text/plain": [
       "<Figure size 432x288 with 1 Axes>"
      ]
     },
     "metadata": {
      "needs_background": "light"
     },
     "output_type": "display_data"
    }
   ],
   "source": [
    "#Loss plot\n",
    "train_loss = [2.4834,0.3410,0.2804,0.2479,0.2283]\n",
    "val_loss = [0.2790,0.2448,0.2026,0.1775,0.1652]\n",
    "plt.plot(t,train_loss,label = 'Train loss')\n",
    "plt.plot(t,val_loss,label= 'Validation loss')\n",
    "plt.title('The train and validation losses found for 5 epochs.')\n",
    "plt.xlabel('Epoch')\n",
    "plt.ylabel('Loss')\n",
    "plt.legend()\n",
    "plt.show()"
   ]
  },
  {
   "cell_type": "code",
   "execution_count": null,
   "metadata": {},
   "outputs": [],
   "source": [
    "#Make predictions on test data\n",
    "predict_multiple(model = model,\n",
    "                 inp_dir=\"C:\\\\Users\\\\Administrator\\\\Desktop\\\\dataset\\\\test_image\\\\\",\n",
    "                 checkpoints_path= \"C:\\\\Users\\\\Administrator\\\\Desktop\\\\dataset\\\\weights\\\\\",\n",
    "                out_dir = \"C:\\\\Users\\\\Administrator\\\\Desktop\\\\dataset\\\\test_prediction\\\\\")"
   ]
  },
  {
   "cell_type": "code",
   "execution_count": 91,
   "metadata": {},
   "outputs": [
    {
     "name": "stderr",
     "output_type": "stream",
     "text": [
      "158it [01:00,  2.62it/s]\n"
     ]
    }
   ],
   "source": [
    "#Evaluate model using IoU metric\n",
    "ev = model.evaluate_segmentation(inp_images_dir=\"C:\\\\Users\\\\Administrator\\\\Desktop\\\\dataset\\\\test_image\\\\\",\n",
    "                              annotations_dir=\"C:\\\\Users\\\\Administrator\\\\Desktop\\\\dataset\\\\test_mask\\\\\",\n",
    "                   checkpoints_path = \"C:\\\\Users\\\\Administrator\\\\Desktop\\\\dataset\\\\weights\\\\\")"
   ]
  },
  {
   "cell_type": "code",
   "execution_count": 83,
   "metadata": {},
   "outputs": [
    {
     "name": "stdout",
     "output_type": "stream",
     "text": [
      "{'frequency_weighted_IU': 0.96518902468419, 'mean_IU': 0.12292195302107582, 'class_wise_IU': array([9.81697645e-01, 9.02158533e-04, 3.95621786e-04, 0.00000000e+00,\n",
      "       3.80199224e-04, 0.00000000e+00, 0.00000000e+00, 0.00000000e+00])}\n"
     ]
    }
   ],
   "source": [
    "print(ev)"
   ]
  },
  {
   "cell_type": "markdown",
   "metadata": {},
   "source": [
    "These IoU metric results, along with the predictions, show that the model does not generalise well, and displays poor performance at classifying seeps within the data. The pixel accuracy is rather high, however this data has a large class imbalance. Hence a prediction of all pixel class = 0 would yield very high accuracy. The IoU metric finds the ratio of the area of intersection to the area of union, and thus provides a more effective measurement for evaluating segmentation models.  The IoU metric shows that for classes of seep (1:7), the IoU is very small and hence the model has not succeeded at detecting seeps. "
   ]
  }
 ],
 "metadata": {
  "kernelspec": {
   "display_name": "Python 3",
   "language": "python",
   "name": "python3"
  },
  "language_info": {
   "codemirror_mode": {
    "name": "ipython",
    "version": 3
   },
   "file_extension": ".py",
   "mimetype": "text/x-python",
   "name": "python",
   "nbconvert_exporter": "python",
   "pygments_lexer": "ipython3",
   "version": "3.7.6"
  }
 },
 "nbformat": 4,
 "nbformat_minor": 4
}
